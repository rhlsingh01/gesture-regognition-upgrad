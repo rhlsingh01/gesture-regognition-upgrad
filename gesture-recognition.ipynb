{
 "cells": [
  {
   "cell_type": "code",
   "execution_count": 1,
   "metadata": {
    "execution": {
     "iopub.execute_input": "2021-07-28T08:46:39.402482Z",
     "iopub.status.busy": "2021-07-28T08:46:39.401900Z",
     "iopub.status.idle": "2021-07-28T08:46:40.766501Z",
     "shell.execute_reply": "2021-07-28T08:46:40.765870Z",
     "shell.execute_reply.started": "2021-07-28T08:46:39.402399Z"
    }
   },
   "outputs": [],
   "source": [
    "import numpy as np\n",
    "import os\n",
    "from skimage.transform import resize\n",
    "from imageio import imread\n",
    "import datetime\n",
    "import os\n",
    "import matplotlib.pyplot as plt\n",
    "import warnings\n",
    "warnings.filterwarnings('ignore')"
   ]
  },
  {
   "cell_type": "markdown",
   "metadata": {},
   "source": [
    "We set the random seed so that the results don't vary drastically."
   ]
  },
  {
   "cell_type": "code",
   "execution_count": 2,
   "metadata": {
    "execution": {
     "iopub.execute_input": "2021-07-28T08:46:40.767758Z",
     "iopub.status.busy": "2021-07-28T08:46:40.767458Z",
     "iopub.status.idle": "2021-07-28T08:46:47.682763Z",
     "shell.execute_reply": "2021-07-28T08:46:47.682130Z",
     "shell.execute_reply.started": "2021-07-28T08:46:40.767736Z"
    }
   },
   "outputs": [],
   "source": [
    "np.random.seed(30)\n",
    "import random as rn\n",
    "rn.seed(30)\n",
    "from keras import backend as K\n",
    "import tensorflow as tf\n",
    "tf.random.set_seed(30)"
   ]
  },
  {
   "cell_type": "code",
   "execution_count": 3,
   "metadata": {
    "execution": {
     "iopub.execute_input": "2021-07-28T08:46:47.684922Z",
     "iopub.status.busy": "2021-07-28T08:46:47.684484Z",
     "iopub.status.idle": "2021-07-28T08:46:47.703076Z",
     "shell.execute_reply": "2021-07-28T08:46:47.701792Z",
     "shell.execute_reply.started": "2021-07-28T08:46:47.684893Z"
    }
   },
   "outputs": [
    {
     "name": "stdout",
     "output_type": "stream",
     "text": [
      "GPU device not found\n"
     ]
    }
   ],
   "source": [
    "device_name = tf.test.gpu_device_name()\n",
    "if \"GPU\" not in device_name:\n",
    "    print(\"GPU device not found\")\n",
    "else:\n",
    "    print('Found GPU at: {}'.format(device_name))"
   ]
  },
  {
   "cell_type": "markdown",
   "metadata": {},
   "source": [
    "In this block, you read the folder names for training and validation. You also set the `batch_size` here. Note that you set the batch size in such a way that you are able to use the GPU in full capacity. You keep increasing the batch size until the machine throws an error."
   ]
  },
  {
   "cell_type": "code",
   "execution_count": 4,
   "metadata": {
    "execution": {
     "iopub.execute_input": "2021-07-28T08:46:47.705100Z",
     "iopub.status.busy": "2021-07-28T08:46:47.704717Z",
     "iopub.status.idle": "2021-07-28T08:46:47.739242Z",
     "shell.execute_reply": "2021-07-28T08:46:47.738348Z",
     "shell.execute_reply.started": "2021-07-28T08:46:47.705075Z"
    }
   },
   "outputs": [],
   "source": [
    "train_doc = np.random.permutation(open('../input/project3/Project_data/train.csv').readlines())\n",
    "val_doc = np.random.permutation(open('../input/project3/Project_data/val.csv').readlines())\n",
    "batch_size = 64"
   ]
  },
  {
   "cell_type": "code",
   "execution_count": 5,
   "metadata": {
    "execution": {
     "iopub.execute_input": "2021-07-28T08:46:47.740676Z",
     "iopub.status.busy": "2021-07-28T08:46:47.740324Z",
     "iopub.status.idle": "2021-07-28T08:46:48.026819Z",
     "shell.execute_reply": "2021-07-28T08:46:48.025798Z",
     "shell.execute_reply.started": "2021-07-28T08:46:47.740650Z"
    }
   },
   "outputs": [
    {
     "name": "stdout",
     "output_type": "stream",
     "text": [
      "/bin/bash: nvidia-smi: command not found\n"
     ]
    }
   ],
   "source": [
    "## Checking the GPU configuration\n",
    "!nvidia-smi"
   ]
  },
  {
   "cell_type": "markdown",
   "metadata": {
    "id": "DGY4lrhhvu_w"
   },
   "source": [
    "## Generator\n",
    "This is one of the most important part of the code. The overall structure of the generator has been given. In the generator, you are going to preprocess the images as you have images of 2 different dimensions as well as create a batch of video frames. You have to experiment with `img_idx`, `y`,`z` and normalization such that you get high accuracy."
   ]
  },
  {
   "cell_type": "code",
   "execution_count": 6,
   "metadata": {
    "execution": {
     "iopub.execute_input": "2021-07-28T08:46:48.029363Z",
     "iopub.status.busy": "2021-07-28T08:46:48.028988Z",
     "iopub.status.idle": "2021-07-28T08:46:48.034968Z",
     "shell.execute_reply": "2021-07-28T08:46:48.034363Z",
     "shell.execute_reply.started": "2021-07-28T08:46:48.029330Z"
    },
    "id": "1xrANziuvu_x"
   },
   "outputs": [],
   "source": [
    "def cropResize(image, y, z):\n",
    "    h, w = image.shape\n",
    "    \n",
    "    # if smaller image crop at center for 120x120\n",
    "    if w == 160:\n",
    "        image = image[:120, 20:140]\n",
    "\n",
    "    # resize every image\n",
    "    return resize(image, (y,z))"
   ]
  },
  {
   "cell_type": "code",
   "execution_count": 7,
   "metadata": {
    "execution": {
     "iopub.execute_input": "2021-07-28T08:46:48.036371Z",
     "iopub.status.busy": "2021-07-28T08:46:48.036036Z",
     "iopub.status.idle": "2021-07-28T08:46:48.053735Z",
     "shell.execute_reply": "2021-07-28T08:46:48.052814Z",
     "shell.execute_reply.started": "2021-07-28T08:46:48.036338Z"
    },
    "id": "KhGrETufvu_y"
   },
   "outputs": [],
   "source": [
    "def normalizeImage(image):\n",
    "    # applying normalization\n",
    "    return image/255.0"
   ]
  },
  {
   "cell_type": "code",
   "execution_count": 8,
   "metadata": {
    "execution": {
     "iopub.execute_input": "2021-07-28T08:46:48.056216Z",
     "iopub.status.busy": "2021-07-28T08:46:48.055896Z",
     "iopub.status.idle": "2021-07-28T08:46:48.073108Z",
     "shell.execute_reply": "2021-07-28T08:46:48.072504Z",
     "shell.execute_reply.started": "2021-07-28T08:46:48.056185Z"
    },
    "id": "-qd1bxIZvu_y"
   },
   "outputs": [],
   "source": [
    "def preprocessImage(image, y, z):\n",
    "    return normalizeImage(cropResize(image, y, z))"
   ]
  },
  {
   "cell_type": "code",
   "execution_count": 9,
   "metadata": {
    "execution": {
     "iopub.execute_input": "2021-07-28T08:46:48.075044Z",
     "iopub.status.busy": "2021-07-28T08:46:48.074607Z",
     "iopub.status.idle": "2021-07-28T08:46:48.091465Z",
     "shell.execute_reply": "2021-07-28T08:46:48.090412Z",
     "shell.execute_reply.started": "2021-07-28T08:46:48.075013Z"
    },
    "id": "LNgZq2e-vu_z"
   },
   "outputs": [],
   "source": [
    "def make3dFilter(x):\n",
    "    return tuple([x]*3)\n",
    "\n",
    "def make2dFilter(x):\n",
    "    return tuple([x]*2)"
   ]
  },
  {
   "cell_type": "code",
   "execution_count": 10,
   "metadata": {
    "execution": {
     "iopub.execute_input": "2021-07-28T08:46:48.093251Z",
     "iopub.status.busy": "2021-07-28T08:46:48.093023Z",
     "iopub.status.idle": "2021-07-28T08:46:48.109072Z",
     "shell.execute_reply": "2021-07-28T08:46:48.107910Z",
     "shell.execute_reply.started": "2021-07-28T08:46:48.093228Z"
    },
    "id": "-yPBgXECvu_z"
   },
   "outputs": [],
   "source": [
    "def getBatchData(source_path, t, batch, batch_size, img_tensor):\n",
    "    [x,y,z] = [len(img_tensor[0]),img_tensor[1], img_tensor[2]]\n",
    "    img_idx = img_tensor[0]\n",
    "    batch_data = np.zeros((batch_size,x,y,z,3)) # x is the number of images you use for each video, (y,z) is the final size of the input images and 3 is the number of channels RGB\n",
    "    batch_labels = np.zeros((batch_size,5)) # batch_labels is the one hot representation of the output\n",
    "    for folder in range(batch_size): # iterate over the batch_size\n",
    "        imgs = os.listdir(source_path+'/'+ t[folder + (batch*batch_size)].split(';')[0]) # read all the images in the folder\n",
    "        for idx,item in enumerate(img_idx): #  Iterate iver the frames/images of a folder to read them in\n",
    "            image = imread(source_path+'/'+ t[folder + (batch*batch_size)].strip().split(';')[0]+'/'+imgs[item]).astype(np.float32)\n",
    "\n",
    "            #crop the images and resize them. Note that the images are of 2 different shape \n",
    "            #and the conv3D will throw error if the inputs in a batch have different shapes\n",
    "\n",
    "            # separate preprocessImage function is defined for cropping, resizing and normalizing images\n",
    "            batch_data[folder,idx,:,:,0] = preprocessImage(image[:, :, 0], y, z)\n",
    "            batch_data[folder,idx,:,:,1] = preprocessImage(image[:, :, 1], y, z)\n",
    "            batch_data[folder,idx,:,:,2] = preprocessImage(image[:, :, 2], y, z)\n",
    "\n",
    "        batch_labels[folder, int(t[folder + (batch*batch_size)].strip().split(';')[2])] = 1\n",
    "    return batch_data, batch_labels"
   ]
  },
  {
   "cell_type": "code",
   "execution_count": 11,
   "metadata": {
    "execution": {
     "iopub.execute_input": "2021-07-28T08:46:48.110680Z",
     "iopub.status.busy": "2021-07-28T08:46:48.110263Z",
     "iopub.status.idle": "2021-07-28T08:46:48.129095Z",
     "shell.execute_reply": "2021-07-28T08:46:48.128211Z",
     "shell.execute_reply.started": "2021-07-28T08:46:48.110649Z"
    },
    "id": "eA6r1IMmvu_0"
   },
   "outputs": [],
   "source": [
    "def generator(source_path, folder_list, batch_size, img_tensor):\n",
    "    print( 'Source path = ', source_path, '; batch size =', batch_size)\n",
    "    while True:\n",
    "        t = np.random.permutation(folder_list)\n",
    "        num_batches = int(len(folder_list)/batch_size)\n",
    "        for batch in range(num_batches): # we iterate over the number of batches\n",
    "            yield getBatchData(source_path, t, batch, batch_size, img_tensor)\n",
    "        \n",
    "        # write the code for the remaining data points which are left after full batches\n",
    "        # checking if any remaining batches are there or not\n",
    "        if len(folder_list)%batch_size != 0:\n",
    "            # updated the batch size and yield\n",
    "            batch_size = len(folder_list)%batch_size\n",
    "            yield getBatchData(source_path, t, batch, batch_size, img_tensor)"
   ]
  },
  {
   "cell_type": "markdown",
   "metadata": {
    "id": "tzNpErbFvu_1"
   },
   "source": [
    "Note here that a video is represented above in the generator as (number of images, height, width, number of channels). Take this into consideration while creating the model architecture."
   ]
  },
  {
   "cell_type": "code",
   "execution_count": 30,
   "metadata": {
    "execution": {
     "iopub.execute_input": "2021-07-28T09:15:32.785480Z",
     "iopub.status.busy": "2021-07-28T09:15:32.785117Z",
     "iopub.status.idle": "2021-07-28T09:15:32.794727Z",
     "shell.execute_reply": "2021-07-28T09:15:32.793038Z",
     "shell.execute_reply.started": "2021-07-28T09:15:32.785449Z"
    },
    "id": "CiGThqNVvu_2",
    "outputId": "b838ef8d-2ff3-4278-c410-1554fefb7bb1"
   },
   "outputs": [
    {
     "name": "stdout",
     "output_type": "stream",
     "text": [
      "# training sequences = 663\n",
      "# validation sequences = 100\n",
      "# epochs = 10\n"
     ]
    }
   ],
   "source": [
    "curr_dt_time = datetime.datetime.now()\n",
    "train_path = '../input/project3/Project_data/train'\n",
    "val_path = '../input/project3/Project_data/val'\n",
    "num_train_sequences = len(train_doc)\n",
    "print('# training sequences =', num_train_sequences)\n",
    "num_val_sequences = len(val_doc)\n",
    "print('# validation sequences =', num_val_sequences)\n",
    "num_epochs = 10\n",
    "print ('# epochs =', num_epochs)"
   ]
  },
  {
   "cell_type": "code",
   "execution_count": 31,
   "metadata": {
    "execution": {
     "iopub.execute_input": "2021-07-28T09:15:37.622717Z",
     "iopub.status.busy": "2021-07-28T09:15:37.622406Z",
     "iopub.status.idle": "2021-07-28T09:15:37.629487Z",
     "shell.execute_reply": "2021-07-28T09:15:37.628246Z",
     "shell.execute_reply.started": "2021-07-28T09:15:37.622687Z"
    },
    "id": "w2bDaqWXvu_4",
    "outputId": "22dc4b0e-3f48-401c-f469-4298839963c9"
   },
   "outputs": [
    {
     "name": "stdout",
     "output_type": "stream",
     "text": [
      "# img_tensor = [array([ 0,  2,  3,  5,  6,  8,  9, 11, 12, 14, 15, 17, 18, 20, 21, 23, 24,\n",
      "       26, 27, 29]), 100, 100, 3]\n"
     ]
    }
   ],
   "source": [
    "def getImgTensor(n_frames):\n",
    "    img_idx = np.round(np.linspace(0, 29, n_frames)).astype(int)\n",
    "    return [img_idx, 100, 100, 3]\n",
    "\n",
    "# define image tensor size\n",
    "img_tensor = getImgTensor(20)\n",
    "print ('# img_tensor =', img_tensor)"
   ]
  },
  {
   "cell_type": "markdown",
   "metadata": {
    "id": "TEzkB8pzvu_5"
   },
   "source": [
    "### Generator Validation"
   ]
  },
  {
   "cell_type": "code",
   "execution_count": 32,
   "metadata": {
    "execution": {
     "iopub.execute_input": "2021-07-28T09:15:45.697704Z",
     "iopub.status.busy": "2021-07-28T09:15:45.697408Z",
     "iopub.status.idle": "2021-07-28T09:16:27.743533Z",
     "shell.execute_reply": "2021-07-28T09:16:27.742597Z",
     "shell.execute_reply.started": "2021-07-28T09:15:45.697675Z"
    },
    "id": "PKXoahGbvu_7",
    "outputId": "3cdcf0c4-8eea-4e1d-e822-7c473f5a1c90"
   },
   "outputs": [
    {
     "name": "stdout",
     "output_type": "stream",
     "text": [
      "Source path =  ../input/project3/Project_data/train ; batch size = 64\n",
      "(64, 20, 100, 100, 3)\n",
      "Source path =  ../input/project3/Project_data/val ; batch size = 64\n",
      "(64, 20, 100, 100, 3)\n"
     ]
    }
   ],
   "source": [
    "# check complete batch shape\n",
    "sample_generator = generator(train_path, train_doc, batch_size, img_tensor)\n",
    "sample_batch_data, sample_batch_labels = next(sample_generator)\n",
    "print(sample_batch_data.shape)\n",
    "\n",
    "# validation batch sample\n",
    "sample_val_generator = generator(val_path, val_doc, batch_size, img_tensor)\n",
    "sample_val_batch_data, sample_val_batch_labels = next(sample_val_generator)\n",
    "print(sample_val_batch_data.shape)"
   ]
  },
  {
   "cell_type": "code",
   "execution_count": 33,
   "metadata": {
    "execution": {
     "iopub.execute_input": "2021-07-28T09:16:36.315844Z",
     "iopub.status.busy": "2021-07-28T09:16:36.315480Z",
     "iopub.status.idle": "2021-07-28T09:16:36.537496Z",
     "shell.execute_reply": "2021-07-28T09:16:36.536191Z",
     "shell.execute_reply.started": "2021-07-28T09:16:36.315819Z"
    },
    "id": "Xl6e7d0Ovu_8",
    "outputId": "f431fb7f-88f7-497a-a4a5-e017f5faab17"
   },
   "outputs": [
    {
     "data": {
      "image/png": "[encoded data removed]",
      "text/plain": [
       "<Figure size 432x288 with 2 Axes>"
      ]
     },
     "metadata": {
      "needs_background": "light"
     },
     "output_type": "display_data"
    }
   ],
   "source": [
    "# plot generated sample images\n",
    "fig, ax = plt.subplots(1,2)\n",
    "ax[0].imshow(sample_val_batch_data[16,10,:,:,:])   \n",
    "ax[1].imshow(sample_val_batch_data[25,10,:,:,:])\n",
    "plt.show()"
   ]
  },
  {
   "cell_type": "code",
   "execution_count": 34,
   "metadata": {
    "execution": {
     "iopub.execute_input": "2021-07-28T09:18:02.176457Z",
     "iopub.status.busy": "2021-07-28T09:18:02.176113Z",
     "iopub.status.idle": "2021-07-28T09:18:02.183616Z",
     "shell.execute_reply": "2021-07-28T09:18:02.182769Z",
     "shell.execute_reply.started": "2021-07-28T09:18:02.176432Z"
    },
    "id": "k3HvPgOPvu_-"
   },
   "outputs": [],
   "source": [
    "def plotModelHistory(h):\n",
    "    fig, ax = plt.subplots(1, 2, figsize=(15,4))\n",
    "    ax[0].plot(h.history['loss'])   \n",
    "    ax[0].plot(h.history['val_loss'])\n",
    "    ax[0].legend(['loss','val_loss'])\n",
    "    ax[0].title.set_text(\"Train loss vs Validation loss\")\n",
    "\n",
    "    ax[1].plot(h.history['categorical_accuracy'])   \n",
    "    ax[1].plot(h.history['val_categorical_accuracy'])\n",
    "    ax[1].legend(['categorical_accuracy','val_categorical_accuracy'])\n",
    "    ax[1].title.set_text(\"Train accuracy vs Validation accuracy\")\n",
    "    plt.show()\n",
    "\n",
    "    print(\"Max. Training Accuracy\", max(h.history['categorical_accuracy']))\n",
    "    print(\"Max. Validaiton Accuracy\", max(h.history['val_categorical_accuracy']))"
   ]
  },
  {
   "cell_type": "markdown",
   "metadata": {
    "id": "dcGAuU41vu__"
   },
   "source": [
    "## Model Building\n",
    "Here you make the model using different functionalities that Keras provides. Remember to use `Conv3D` and `MaxPooling3D` and not `Conv2D` and `Maxpooling2D` for a 3D convolution model. You would want to use `TimeDistributed` while building a Conv2D + RNN model. Also remember that the last layer is the softmax. Design the network in such a way that the model is able to give good accuracy on the least number of parameters so that it can fit in the memory of the webcam."
   ]
  },
  {
   "cell_type": "code",
   "execution_count": 35,
   "metadata": {
    "execution": {
     "iopub.execute_input": "2021-07-28T09:18:02.186124Z",
     "iopub.status.busy": "2021-07-28T09:18:02.185656Z",
     "iopub.status.idle": "2021-07-28T09:18:02.202016Z",
     "shell.execute_reply": "2021-07-28T09:18:02.201447Z",
     "shell.execute_reply.started": "2021-07-28T09:18:02.186087Z"
    },
    "id": "BlVvi0S9vvAA"
   },
   "outputs": [],
   "source": [
    "from keras.models import Sequential, Model\n",
    "from keras.layers import Dense, GRU, Flatten, TimeDistributed, Flatten, BatchNormalization, Activation, Dropout, LSTM\n",
    "from keras.layers.convolutional import Conv3D, MaxPooling3D, Conv2D, MaxPooling2D\n",
    "from keras.callbacks import ModelCheckpoint, ReduceLROnPlateau\n",
    "from keras import optimizers"
   ]
  },
  {
   "cell_type": "markdown",
   "metadata": {
    "id": "9A0Y13yhvvAA"
   },
   "source": [
    "### Base Model"
   ]
  },
  {
   "cell_type": "code",
   "execution_count": 36,
   "metadata": {
    "execution": {
     "iopub.execute_input": "2021-07-28T09:18:02.301426Z",
     "iopub.status.busy": "2021-07-28T09:18:02.300943Z",
     "iopub.status.idle": "2021-07-28T09:18:02.471682Z",
     "shell.execute_reply": "2021-07-28T09:18:02.470080Z",
     "shell.execute_reply.started": "2021-07-28T09:18:02.301398Z"
    },
    "id": "jD0uh84WvvAB",
    "outputId": "19a9cef8-30ee-4ce2-9869-20d2fd58bfe5"
   },
   "outputs": [
    {
     "name": "stdout",
     "output_type": "stream",
     "text": [
      "Model: \"sequential_1\"\n",
      "_________________________________________________________________\n",
      "Layer (type)                 Output Shape              Param #   \n",
      "=================================================================\n",
      "conv3d_6 (Conv3D)            (None, 16, 96, 96, 16)    6016      \n",
      "_________________________________________________________________\n",
      "max_pooling3d_6 (MaxPooling3 (None, 8, 48, 48, 16)     0         \n",
      "_________________________________________________________________\n",
      "batch_normalization_10 (Batc (None, 8, 48, 48, 16)     64        \n",
      "_________________________________________________________________\n",
      "conv3d_7 (Conv3D)            (None, 6, 46, 46, 32)     13856     \n",
      "_________________________________________________________________\n",
      "max_pooling3d_7 (MaxPooling3 (None, 6, 23, 23, 32)     0         \n",
      "_________________________________________________________________\n",
      "batch_normalization_11 (Batc (None, 6, 23, 23, 32)     128       \n",
      "_________________________________________________________________\n",
      "conv3d_8 (Conv3D)            (None, 4, 21, 21, 64)     55360     \n",
      "_________________________________________________________________\n",
      "max_pooling3d_8 (MaxPooling3 (None, 4, 11, 11, 64)     0         \n",
      "_________________________________________________________________\n",
      "batch_normalization_12 (Batc (None, 4, 11, 11, 64)     256       \n",
      "_________________________________________________________________\n",
      "flatten_2 (Flatten)          (None, 30976)             0         \n",
      "_________________________________________________________________\n",
      "dense_6 (Dense)              (None, 128)               3965056   \n",
      "_________________________________________________________________\n",
      "batch_normalization_13 (Batc (None, 128)               512       \n",
      "_________________________________________________________________\n",
      "dropout_4 (Dropout)          (None, 128)               0         \n",
      "_________________________________________________________________\n",
      "dense_7 (Dense)              (None, 64)                8256      \n",
      "_________________________________________________________________\n",
      "batch_normalization_14 (Batc (None, 64)                256       \n",
      "_________________________________________________________________\n",
      "dropout_5 (Dropout)          (None, 64)                0         \n",
      "_________________________________________________________________\n",
      "dense_8 (Dense)              (None, 5)                 325       \n",
      "=================================================================\n",
      "Total params: 4,050,085\n",
      "Trainable params: 4,049,477\n",
      "Non-trainable params: 608\n",
      "_________________________________________________________________\n"
     ]
    }
   ],
   "source": [
    "#write your model here\n",
    "def defineModel(img_tensor):\n",
    "    inputShape = (len(img_tensor[0]), img_tensor[1], img_tensor[2], img_tensor[3])\n",
    "\n",
    "    model = Sequential([\n",
    "        Conv3D(16, make3dFilter(5), activation='relu', input_shape=inputShape),\n",
    "        MaxPooling3D(make3dFilter(2), padding='same'),\n",
    "        BatchNormalization(),\n",
    "\n",
    "        Conv3D(32, make3dFilter(3), activation='relu'),\n",
    "        MaxPooling3D(pool_size=(1,2,2), padding='same'),\n",
    "        BatchNormalization(),\n",
    "\n",
    "        Conv3D(64, make3dFilter(3), activation='relu'),\n",
    "        MaxPooling3D(pool_size=(1,2,2), padding='same'),\n",
    "        BatchNormalization(),\n",
    "\n",
    "        Flatten(),\n",
    "        Dense(128, activation='relu'),\n",
    "        BatchNormalization(),\n",
    "        Dropout(0.25),\n",
    "\n",
    "        Dense(64, activation='relu'),\n",
    "        BatchNormalization(),\n",
    "        Dropout(0.25),\n",
    "\n",
    "        Dense(5, activation='softmax')\n",
    "    ])\n",
    "    model.compile(optimizer=optimizers.Adam(), loss='categorical_crossentropy', metrics=['categorical_accuracy'])\n",
    "    return model\n",
    "\n",
    "model = defineModel(img_tensor)\n",
    "model.summary()"
   ]
  },
  {
   "cell_type": "code",
   "execution_count": 37,
   "metadata": {
    "execution": {
     "iopub.execute_input": "2021-07-28T09:18:02.472988Z",
     "iopub.status.busy": "2021-07-28T09:18:02.472772Z",
     "iopub.status.idle": "2021-07-28T09:18:02.478539Z",
     "shell.execute_reply": "2021-07-28T09:18:02.477092Z",
     "shell.execute_reply.started": "2021-07-28T09:18:02.472965Z"
    },
    "id": "1SFrztx4vvAE"
   },
   "outputs": [],
   "source": [
    "train_generator = generator(train_path, train_doc, batch_size, img_tensor)\n",
    "val_generator = generator(val_path, val_doc, batch_size, img_tensor)"
   ]
  },
  {
   "cell_type": "markdown",
   "metadata": {
    "id": "TshGKBpyvvAF"
   },
   "source": [
    "The `steps_per_epoch` and `validation_steps` are used by `fit_generator` to decide the number of next() calls it need to make."
   ]
  },
  {
   "cell_type": "code",
   "execution_count": 38,
   "metadata": {
    "execution": {
     "iopub.execute_input": "2021-07-28T09:18:02.480900Z",
     "iopub.status.busy": "2021-07-28T09:18:02.480412Z",
     "iopub.status.idle": "2021-07-28T09:18:02.494727Z",
     "shell.execute_reply": "2021-07-28T09:18:02.493565Z",
     "shell.execute_reply.started": "2021-07-28T09:18:02.480754Z"
    },
    "id": "hNW5OuAsvvAF"
   },
   "outputs": [],
   "source": [
    "if (num_train_sequences%batch_size) == 0:\n",
    "    steps_per_epoch = int(num_train_sequences/batch_size)\n",
    "else:\n",
    "    steps_per_epoch = (num_train_sequences//batch_size) + 1\n",
    "\n",
    "if (num_val_sequences%batch_size) == 0:\n",
    "    validation_steps = int(num_val_sequences/batch_size)\n",
    "else:\n",
    "    validation_steps = (num_val_sequences//batch_size) + 1"
   ]
  },
  {
   "cell_type": "markdown",
   "metadata": {
    "id": "YnIglXSuRxNs"
   },
   "source": [
    "### Model Callbacks Setup"
   ]
  },
  {
   "cell_type": "code",
   "execution_count": 39,
   "metadata": {
    "execution": {
     "iopub.execute_input": "2021-07-28T09:18:02.496983Z",
     "iopub.status.busy": "2021-07-28T09:18:02.496296Z",
     "iopub.status.idle": "2021-07-28T09:18:02.511579Z",
     "shell.execute_reply": "2021-07-28T09:18:02.510196Z",
     "shell.execute_reply.started": "2021-07-28T09:18:02.496921Z"
    },
    "id": "hWzVNhUhRqpL",
    "outputId": "fa5a4f82-483e-490d-83ad-9a495943280c"
   },
   "outputs": [],
   "source": [
    "model_name = 'model_init' + '_' + str(curr_dt_time).replace(' ','').replace(':','_') + '/'\n",
    "    \n",
    "if not os.path.exists(model_name):\n",
    "    os.mkdir(model_name)\n",
    "\n",
    "filepath = model_name + 'model-{epoch:05d}-{loss:.5f}-{categorical_accuracy:.5f}-{val_loss:.5f}-{val_categorical_accuracy:.5f}.h5'\n",
    "\n",
    "checkpoint = ModelCheckpoint(filepath, monitor='val_loss', verbose=1, save_best_only=False, save_weights_only=False, mode='auto', period=1)\n",
    "\n",
    "LR = ReduceLROnPlateau(monitor='val_loss', factor=0.2, verbose=1, patience=4)\n",
    "\n",
    "# callbacks_list = [checkpoint, LR]\n",
    "callbacks_list = [LR]"
   ]
  },
  {
   "cell_type": "markdown",
   "metadata": {
    "id": "-hem7-SrSZme"
   },
   "source": [
    "### Test Batch Size & Frames"
   ]
  },
  {
   "cell_type": "code",
   "execution_count": 40,
   "metadata": {
    "execution": {
     "iopub.execute_input": "2021-07-28T09:18:02.513618Z",
     "iopub.status.busy": "2021-07-28T09:18:02.513180Z",
     "iopub.status.idle": "2021-07-28T09:18:02.539148Z",
     "shell.execute_reply": "2021-07-28T09:18:02.537265Z",
     "shell.execute_reply.started": "2021-07-28T09:18:02.513582Z"
    },
    "id": "ez2ESV-vHPKA"
   },
   "outputs": [],
   "source": [
    "def testBatchSize(batch_size, n_frames):\n",
    "    img_tensor = getImgTensor(n_frames)\n",
    "    print(\"Using frames as\", img_tensor[0])\n",
    "    global callbacks_list\n",
    "    num_epochs = 3\n",
    "    train_generator = generator(train_path, train_doc, batch_size, img_tensor)\n",
    "    val_generator = generator(val_path, val_doc, batch_size, img_tensor)\n",
    "    if (num_train_sequences%batch_size) == 0:\n",
    "        steps_per_epoch = int(num_train_sequences/batch_size)\n",
    "    else:\n",
    "        steps_per_epoch = (num_train_sequences//batch_size) + 1\n",
    "\n",
    "    if (num_val_sequences%batch_size) == 0:\n",
    "        validation_steps = int(num_val_sequences/batch_size)\n",
    "    else:\n",
    "        validation_steps = (num_val_sequences//batch_size) + 1\n",
    "\n",
    "    model = defineModel(img_tensor)\n",
    "    model.fit_generator(train_generator, steps_per_epoch=steps_per_epoch, epochs=num_epochs, verbose=1, \n",
    "                callbacks=callbacks_list, validation_data=val_generator, \n",
    "                validation_steps=validation_steps, class_weight=None, workers=1, initial_epoch=0)"
   ]
  },
  {
   "cell_type": "markdown",
   "metadata": {
    "id": "Vh1IZvwiajxA"
   },
   "source": [
    "With above observations, we can see that batch size is not impacting training time but number of frames. We will use batch size of 64 as it seems optimal. It is commented as it takes a lot of time to run that is restricting for the notebook to completely run."
   ]
  },
  {
   "cell_type": "markdown",
   "metadata": {
    "id": "TRxSBVQgbPHo"
   },
   "source": [
    "### Model 1 - Frames-16, Epoc-20"
   ]
  },
  {
   "cell_type": "code",
   "execution_count": 41,
   "metadata": {
    "execution": {
     "iopub.execute_input": "2021-07-28T09:18:02.542693Z",
     "iopub.status.busy": "2021-07-28T09:18:02.542427Z",
     "iopub.status.idle": "2021-07-28T09:48:32.176902Z",
     "shell.execute_reply": "2021-07-28T09:48:32.175764Z",
     "shell.execute_reply.started": "2021-07-28T09:18:02.542668Z"
    },
    "id": "e9Z5A_HNZgyP",
    "outputId": "68c3c78f-354e-43a9-8534-c8d9c61cdc21"
   },
   "outputs": [
    {
     "name": "stdout",
     "output_type": "stream",
     "text": [
      "Model: \"conv_3d1\"\n",
      "_________________________________________________________________\n",
      "Layer (type)                 Output Shape              Param #   \n",
      "=================================================================\n",
      "conv3d_9 (Conv3D)            (None, 12, 96, 96, 16)    6016      \n",
      "_________________________________________________________________\n",
      "max_pooling3d_9 (MaxPooling3 (None, 6, 48, 48, 16)     0         \n",
      "_________________________________________________________________\n",
      "batch_normalization_15 (Batc (None, 6, 48, 48, 16)     64        \n",
      "_________________________________________________________________\n",
      "conv3d_10 (Conv3D)           (None, 4, 46, 46, 32)     13856     \n",
      "_________________________________________________________________\n",
      "max_pooling3d_10 (MaxPooling (None, 4, 23, 23, 32)     0         \n",
      "_________________________________________________________________\n",
      "batch_normalization_16 (Batc (None, 4, 23, 23, 32)     128       \n",
      "_________________________________________________________________\n",
      "conv3d_11 (Conv3D)           (None, 2, 21, 21, 64)     55360     \n",
      "_________________________________________________________________\n",
      "max_pooling3d_11 (MaxPooling (None, 2, 11, 11, 64)     0         \n",
      "_________________________________________________________________\n",
      "batch_normalization_17 (Batc (None, 2, 11, 11, 64)     256       \n",
      "_________________________________________________________________\n",
      "flatten_3 (Flatten)          (None, 15488)             0         \n",
      "_________________________________________________________________\n",
      "dense_9 (Dense)              (None, 128)               1982592   \n",
      "_________________________________________________________________\n",
      "batch_normalization_18 (Batc (None, 128)               512       \n",
      "_________________________________________________________________\n",
      "dropout_6 (Dropout)          (None, 128)               0         \n",
      "_________________________________________________________________\n",
      "dense_10 (Dense)             (None, 64)                8256      \n",
      "_________________________________________________________________\n",
      "batch_normalization_19 (Batc (None, 64)                256       \n",
      "_________________________________________________________________\n",
      "dropout_7 (Dropout)          (None, 64)                0         \n",
      "_________________________________________________________________\n",
      "dense_11 (Dense)             (None, 5)                 325       \n",
      "=================================================================\n",
      "Total params: 2,067,621\n",
      "Trainable params: 2,067,013\n",
      "Non-trainable params: 608\n",
      "_________________________________________________________________\n",
      "None\n",
      "Source path =  ../input/project3/Project_data/train ; batch size = 64\n",
      "Epoch 1/20\n",
      "11/11 [==============================] - ETA: 0s - loss: 1.7097 - categorical_accuracy: 0.4093 Source path =  ../input/project3/Project_data/val ; batch size = 64\n",
      "11/11 [==============================] - 285s 26s/step - loss: 1.6927 - categorical_accuracy: 0.4142 - val_loss: 6.2732 - val_categorical_accuracy: 0.1800\n",
      "Epoch 2/20\n",
      "11/11 [==============================] - 116s 11s/step - loss: 1.1433 - categorical_accuracy: 0.5562 - val_loss: 6.5117 - val_categorical_accuracy: 0.1719\n",
      "Epoch 3/20\n",
      "11/11 [==============================] - 111s 10s/step - loss: 0.8703 - categorical_accuracy: 0.6516 - val_loss: 2.8827 - val_categorical_accuracy: 0.3393\n",
      "Epoch 4/20\n",
      "11/11 [==============================] - 98s 9s/step - loss: 1.0459 - categorical_accuracy: 0.6330 - val_loss: 3.1400 - val_categorical_accuracy: 0.2812\n",
      "Epoch 5/20\n",
      "11/11 [==============================] - 93s 9s/step - loss: 0.7450 - categorical_accuracy: 0.6897 - val_loss: 2.6649 - val_categorical_accuracy: 0.2188\n",
      "Epoch 6/20\n",
      "11/11 [==============================] - 81s 7s/step - loss: 0.8159 - categorical_accuracy: 0.7201 - val_loss: 3.4868 - val_categorical_accuracy: 0.0000e+00\n",
      "Epoch 7/20\n",
      "11/11 [==============================] - 80s 7s/step - loss: 0.7498 - categorical_accuracy: 0.7136 - val_loss: 3.6595 - val_categorical_accuracy: 0.1250\n",
      "Epoch 8/20\n",
      "11/11 [==============================] - 73s 7s/step - loss: 0.5547 - categorical_accuracy: 0.7760 - val_loss: 2.4254 - val_categorical_accuracy: 0.5000\n",
      "Epoch 9/20\n",
      "11/11 [==============================] - 73s 7s/step - loss: 0.7096 - categorical_accuracy: 0.7059 - val_loss: 2.2363 - val_categorical_accuracy: 0.3750\n",
      "Epoch 10/20\n",
      "11/11 [==============================] - 73s 7s/step - loss: 0.7188 - categorical_accuracy: 0.7606 - val_loss: 2.3097 - val_categorical_accuracy: 0.3750\n",
      "Epoch 11/20\n",
      "11/11 [==============================] - 73s 7s/step - loss: 0.6591 - categorical_accuracy: 0.7765 - val_loss: 2.7866 - val_categorical_accuracy: 0.1250\n",
      "Epoch 12/20\n",
      "11/11 [==============================] - 73s 7s/step - loss: 0.3799 - categorical_accuracy: 0.8791 - val_loss: 2.5581 - val_categorical_accuracy: 0.1250\n",
      "Epoch 13/20\n",
      "11/11 [==============================] - 80s 7s/step - loss: 0.4450 - categorical_accuracy: 0.8589 - val_loss: 4.9664 - val_categorical_accuracy: 0.2500\n",
      "\n",
      "Epoch 00013: ReduceLROnPlateau reducing learning rate to 0.00020000000949949026.\n",
      "Epoch 14/20\n",
      "11/11 [==============================] - 72s 6s/step - loss: 0.5113 - categorical_accuracy: 0.7871 - val_loss: 3.8402 - val_categorical_accuracy: 0.1250\n",
      "Epoch 15/20\n",
      "11/11 [==============================] - 72s 7s/step - loss: 0.4403 - categorical_accuracy: 0.8256 - val_loss: 4.9273 - val_categorical_accuracy: 0.0000e+00\n",
      "Epoch 16/20\n",
      "11/11 [==============================] - 71s 6s/step - loss: 0.3582 - categorical_accuracy: 0.8633 - val_loss: 3.6261 - val_categorical_accuracy: 0.1250\n",
      "Epoch 17/20\n",
      "11/11 [==============================] - 73s 7s/step - loss: 0.3960 - categorical_accuracy: 0.8690 - val_loss: 2.7987 - val_categorical_accuracy: 0.1250\n",
      "\n",
      "Epoch 00017: ReduceLROnPlateau reducing learning rate to 4.0000001899898055e-05.\n",
      "Epoch 18/20\n",
      "11/11 [==============================] - 73s 7s/step - loss: 0.3377 - categorical_accuracy: 0.8660 - val_loss: 0.9638 - val_categorical_accuracy: 0.3750\n",
      "Epoch 19/20\n",
      "11/11 [==============================] - 72s 7s/step - loss: 0.3269 - categorical_accuracy: 0.8774 - val_loss: 1.8950 - val_categorical_accuracy: 0.2500\n",
      "Epoch 20/20\n",
      "11/11 [==============================] - 72s 7s/step - loss: 0.4009 - categorical_accuracy: 0.8815 - val_loss: 1.3480 - val_categorical_accuracy: 0.6250\n"
     ]
    }
   ],
   "source": [
    "n_frames = 16\n",
    "num_epochs = 20\n",
    "batch_size = 64\n",
    "\n",
    "img_tensor = getImgTensor(n_frames)\n",
    "train_generator = generator(train_path, train_doc, batch_size, img_tensor)\n",
    "val_generator = generator(val_path, val_doc, batch_size, img_tensor)\n",
    "\n",
    "if (num_train_sequences%batch_size) == 0:\n",
    "    steps_per_epoch = int(num_train_sequences/batch_size)\n",
    "else:\n",
    "    steps_per_epoch = (num_train_sequences//batch_size) + 1\n",
    "\n",
    "if (num_val_sequences%batch_size) == 0:\n",
    "    validation_steps = int(num_val_sequences/batch_size)\n",
    "else:\n",
    "    validation_steps = (num_val_sequences//batch_size) + 1\n",
    "    \n",
    "inputShape = (len(img_tensor[0]), img_tensor[1], img_tensor[2], img_tensor[3])\n",
    "\n",
    "model1 = Sequential([\n",
    "    Conv3D(16, make3dFilter(5), activation='relu', input_shape=inputShape),\n",
    "    MaxPooling3D(make3dFilter(2), padding='same'),\n",
    "    BatchNormalization(),\n",
    "\n",
    "    Conv3D(32, make3dFilter(3), activation='relu'),\n",
    "    MaxPooling3D(pool_size=(1,2,2), padding='same'),\n",
    "    BatchNormalization(),\n",
    "\n",
    "    Conv3D(64, make3dFilter(3), activation='relu'),\n",
    "    MaxPooling3D(pool_size=(1,2,2), padding='same'),\n",
    "    BatchNormalization(),\n",
    "\n",
    "    Flatten(),\n",
    "    Dense(128, activation='relu'),\n",
    "    BatchNormalization(),\n",
    "    Dropout(0.25),\n",
    "\n",
    "    Dense(64, activation='relu'),\n",
    "    BatchNormalization(),\n",
    "    Dropout(0.25),\n",
    "\n",
    "    Dense(5, activation='softmax')\n",
    "], name=\"conv_3d1\")\n",
    "model1.compile(optimizer=optimizers.Adam(), loss='categorical_crossentropy', metrics=['categorical_accuracy'])\n",
    "print(model1.summary())\n",
    "\n",
    "model1_history = model1.fit_generator(train_generator, steps_per_epoch=steps_per_epoch, epochs=num_epochs, verbose=1, \n",
    "            callbacks=callbacks_list, validation_data=val_generator, \n",
    "            validation_steps=validation_steps, class_weight=None, workers=1, initial_epoch=0)"
   ]
  },
  {
   "cell_type": "code",
   "execution_count": 42,
   "metadata": {
    "execution": {
     "iopub.execute_input": "2021-07-28T09:48:32.179251Z",
     "iopub.status.busy": "2021-07-28T09:48:32.178683Z",
     "iopub.status.idle": "2021-07-28T09:48:32.470232Z",
     "shell.execute_reply": "2021-07-28T09:48:32.468963Z",
     "shell.execute_reply.started": "2021-07-28T09:48:32.179208Z"
    },
    "id": "YfeBXCls1r7R",
    "outputId": "c7ad7297-9bdc-4b0b-816d-5c86c63ee254"
   },
   "outputs": [
    {
     "data": {
      "image/png": "[encoded data removed]",
      "text/plain": [
       "<Figure size 1080x288 with 2 Axes>"
      ]
     },
     "metadata": {
      "needs_background": "light"
     },
     "output_type": "display_data"
    },
    {
     "name": "stdout",
     "output_type": "stream",
     "text": [
      "Max. Training Accuracy 0.903743326663971\n",
      "Max. Validaiton Accuracy 0.625\n"
     ]
    }
   ],
   "source": [
    "plotModelHistory(model1_history)"
   ]
  },
  {
   "cell_type": "markdown",
   "metadata": {
    "id": "dsjCzIj40suJ"
   },
   "source": [
    "### Model 2: Frames-30, Epocs-30"
   ]
  },
  {
   "cell_type": "code",
   "execution_count": null,
   "metadata": {
    "execution": {
     "iopub.execute_input": "2021-07-28T09:48:32.472525Z",
     "iopub.status.busy": "2021-07-28T09:48:32.472255Z"
    },
    "id": "I82f2MK3bNyZ",
    "outputId": "d96d1cc3-3336-4be5-b3d1-ac8616919333"
   },
   "outputs": [
    {
     "name": "stdout",
     "output_type": "stream",
     "text": [
      "Model: \"conv_3d2\"\n",
      "_________________________________________________________________\n",
      "Layer (type)                 Output Shape              Param #   \n",
      "=================================================================\n",
      "conv3d_12 (Conv3D)           (None, 26, 96, 96, 16)    6016      \n",
      "_________________________________________________________________\n",
      "max_pooling3d_12 (MaxPooling (None, 13, 48, 48, 16)    0         \n",
      "_________________________________________________________________\n",
      "batch_normalization_20 (Batc (None, 13, 48, 48, 16)    64        \n",
      "_________________________________________________________________\n",
      "conv3d_13 (Conv3D)           (None, 11, 46, 46, 32)    13856     \n",
      "_________________________________________________________________\n",
      "max_pooling3d_13 (MaxPooling (None, 11, 23, 23, 32)    0         \n",
      "_________________________________________________________________\n",
      "batch_normalization_21 (Batc (None, 11, 23, 23, 32)    128       \n",
      "_________________________________________________________________\n",
      "conv3d_14 (Conv3D)           (None, 9, 21, 21, 64)     55360     \n",
      "_________________________________________________________________\n",
      "max_pooling3d_14 (MaxPooling (None, 9, 11, 11, 64)     0         \n",
      "_________________________________________________________________\n",
      "batch_normalization_22 (Batc (None, 9, 11, 11, 64)     256       \n",
      "_________________________________________________________________\n",
      "flatten_4 (Flatten)          (None, 69696)             0         \n",
      "_________________________________________________________________\n",
      "dense_12 (Dense)             (None, 128)               8921216   \n",
      "_________________________________________________________________\n",
      "batch_normalization_23 (Batc (None, 128)               512       \n",
      "_________________________________________________________________\n",
      "dropout_8 (Dropout)          (None, 128)               0         \n",
      "_________________________________________________________________\n",
      "dense_13 (Dense)             (None, 64)                8256      \n",
      "_________________________________________________________________\n",
      "batch_normalization_24 (Batc (None, 64)                256       \n",
      "_________________________________________________________________\n",
      "dropout_9 (Dropout)          (None, 64)                0         \n",
      "_________________________________________________________________\n",
      "dense_14 (Dense)             (None, 5)                 325       \n",
      "=================================================================\n",
      "Total params: 9,006,245\n",
      "Trainable params: 9,005,637\n",
      "Non-trainable params: 608\n",
      "_________________________________________________________________\n",
      "None\n",
      "Source path =  ../input/project3/Project_data/train ; batch size = 64\n",
      "Epoch 1/30\n",
      "11/11 [==============================] - ETA: 0s - loss: 1.9570 - categorical_accuracy: 0.3645 Source path =  ../input/project3/Project_data/val ; batch size = 64\n",
      "11/11 [==============================] - 633s 58s/step - loss: 1.9251 - categorical_accuracy: 0.3714 - val_loss: 5.5140 - val_categorical_accuracy: 0.2100\n",
      "Epoch 2/30\n",
      "11/11 [==============================] - 256s 24s/step - loss: 0.9921 - categorical_accuracy: 0.6689 - val_loss: 4.5449 - val_categorical_accuracy: 0.2500\n",
      "Epoch 3/30\n",
      "11/11 [==============================] - 249s 23s/step - loss: 0.8625 - categorical_accuracy: 0.6923 - val_loss: 5.0432 - val_categorical_accuracy: 0.1964\n",
      "Epoch 4/30\n",
      "11/11 [==============================] - 229s 21s/step - loss: 0.8821 - categorical_accuracy: 0.6333 - val_loss: 5.1262 - val_categorical_accuracy: 0.1875\n",
      "Epoch 5/30\n",
      "11/11 [==============================] - 211s 19s/step - loss: 0.7229 - categorical_accuracy: 0.7464 - val_loss: 4.3831 - val_categorical_accuracy: 0.1562\n",
      "Epoch 6/30\n",
      "11/11 [==============================] - 181s 16s/step - loss: 0.6055 - categorical_accuracy: 0.7747 - val_loss: 5.5151 - val_categorical_accuracy: 0.1250\n",
      "Epoch 7/30\n",
      " 5/11 [============>.................] - ETA: 1:39 - loss: 0.9477 - categorical_accuracy: 0.6695"
     ]
    }
   ],
   "source": [
    "n_frames = 30\n",
    "num_epochs = 30\n",
    "batch_size = 64\n",
    "\n",
    "img_tensor = getImgTensor(n_frames)\n",
    "train_generator = generator(train_path, train_doc, batch_size, img_tensor)\n",
    "val_generator = generator(val_path, val_doc, batch_size, img_tensor)\n",
    "\n",
    "if (num_train_sequences%batch_size) == 0:\n",
    "    steps_per_epoch = int(num_train_sequences/batch_size)\n",
    "else:\n",
    "    steps_per_epoch = (num_train_sequences//batch_size) + 1\n",
    "\n",
    "if (num_val_sequences%batch_size) == 0:\n",
    "    validation_steps = int(num_val_sequences/batch_size)\n",
    "else:\n",
    "    validation_steps = (num_val_sequences//batch_size) + 1\n",
    "    \n",
    "inputShape = (len(img_tensor[0]), img_tensor[1], img_tensor[2], img_tensor[3])\n",
    "\n",
    "model2 = Sequential([\n",
    "    Conv3D(16, make3dFilter(5), activation='relu', input_shape=inputShape),\n",
    "    MaxPooling3D(make3dFilter(2), padding='same'),\n",
    "    BatchNormalization(),\n",
    "\n",
    "    Conv3D(32, make3dFilter(3), activation='relu'),\n",
    "    MaxPooling3D(pool_size=(1,2,2), padding='same'),\n",
    "    BatchNormalization(),\n",
    "\n",
    "    Conv3D(64, make3dFilter(3), activation='relu'),\n",
    "    MaxPooling3D(pool_size=(1,2,2), padding='same'),\n",
    "    BatchNormalization(),\n",
    "\n",
    "    Flatten(),\n",
    "    Dense(128, activation='relu'),\n",
    "    BatchNormalization(),\n",
    "    Dropout(0.25),\n",
    "\n",
    "    Dense(64, activation='relu'),\n",
    "    BatchNormalization(),\n",
    "    Dropout(0.25),\n",
    "\n",
    "    Dense(5, activation='softmax')\n",
    "], name=\"conv_3d2\")\n",
    "model2.compile(optimizer=optimizers.Adam(), loss='categorical_crossentropy', metrics=['categorical_accuracy'])\n",
    "print(model2.summary())\n",
    "\n",
    "model2_history = model2.fit_generator(train_generator, steps_per_epoch=steps_per_epoch, epochs=num_epochs, verbose=1, \n",
    "            callbacks=callbacks_list, validation_data=val_generator, \n",
    "            validation_steps=validation_steps, class_weight=None, workers=1, initial_epoch=0)"
   ]
  },
  {
   "cell_type": "code",
   "execution_count": null,
   "metadata": {
    "id": "dGXMP96h1zDT",
    "outputId": "7b5e1257-e660-4bc9-c5ab-db47d1f62eae"
   },
   "outputs": [],
   "source": [
    "plotModelHistory(model2_history)"
   ]
  },
  {
   "cell_type": "markdown",
   "metadata": {
    "id": "m_-TyE8YDCnP"
   },
   "source": [
    "Reduce parameters, with padding in Conv3D layers and filter of (3,3,3)."
   ]
  },
  {
   "cell_type": "markdown",
   "metadata": {
    "id": "n_Fqznw7DwLr"
   },
   "source": [
    "### Model 3: Frames-30, Epocs-20, Reduced parameters"
   ]
  },
  {
   "cell_type": "code",
   "execution_count": null,
   "metadata": {
    "id": "UlmHHFrL8HYu",
    "outputId": "ddc9ce30-3bb0-45c3-cd23-fcf0fb319f23"
   },
   "outputs": [],
   "source": [
    "n_frames = 30\n",
    "num_epochs = 20\n",
    "batch_size = 64\n",
    "\n",
    "img_tensor = getImgTensor(n_frames)\n",
    "train_generator = generator(train_path, train_doc, batch_size, img_tensor)\n",
    "val_generator = generator(val_path, val_doc, batch_size, img_tensor)\n",
    "\n",
    "if (num_train_sequences%batch_size) == 0:\n",
    "    steps_per_epoch = int(num_train_sequences/batch_size)\n",
    "else:\n",
    "    steps_per_epoch = (num_train_sequences//batch_size) + 1\n",
    "\n",
    "if (num_val_sequences%batch_size) == 0:\n",
    "    validation_steps = int(num_val_sequences/batch_size)\n",
    "else:\n",
    "    validation_steps = (num_val_sequences//batch_size) + 1\n",
    "    \n",
    "inputShape = (len(img_tensor[0]), img_tensor[1], img_tensor[2], img_tensor[3])\n",
    "\n",
    "model3 = Sequential([\n",
    "    Conv3D(16, make3dFilter(3), padding='same', activation='relu', input_shape=inputShape),\n",
    "    MaxPooling3D(make3dFilter(2), padding='same'),\n",
    "    BatchNormalization(),\n",
    "\n",
    "    Conv3D(32, make3dFilter(3), padding='same', activation='relu'),\n",
    "    MaxPooling3D(pool_size=(2), padding='same'),\n",
    "    BatchNormalization(),\n",
    "\n",
    "    Conv3D(64, make3dFilter(3), padding='same', activation='relu'),\n",
    "    MaxPooling3D(pool_size=(2), padding='same'),\n",
    "    BatchNormalization(),\n",
    "\n",
    "    Flatten(),\n",
    "    Dense(128, activation='relu'),\n",
    "    BatchNormalization(),\n",
    "    Dropout(0.25),\n",
    "\n",
    "    Dense(64, activation='relu'),\n",
    "    BatchNormalization(),\n",
    "    Dropout(0.25),\n",
    "\n",
    "    Dense(5, activation='softmax')\n",
    "], name=\"conv_3d3\")\n",
    "model3.compile(optimizer=optimizers.Adam(), loss='categorical_crossentropy', metrics=['categorical_accuracy'])\n",
    "print(model3.summary())\n",
    "\n",
    "model3_history = model3.fit_generator(train_generator, steps_per_epoch=steps_per_epoch, epochs=num_epochs, verbose=1, \n",
    "            callbacks=callbacks_list, validation_data=val_generator, \n",
    "            validation_steps=validation_steps, class_weight=None, workers=1, initial_epoch=0)"
   ]
  },
  {
   "cell_type": "code",
   "execution_count": null,
   "metadata": {},
   "outputs": [],
   "source": [
    "plotModelHistory(model3_history)"
   ]
  },
  {
   "cell_type": "markdown",
   "metadata": {
    "id": "50alkFqTbYVq"
   },
   "source": [
    "### Model 4: Frames-20, Same pooling in Conv3D layer"
   ]
  },
  {
   "cell_type": "code",
   "execution_count": null,
   "metadata": {
    "id": "kR92LCmTBQCD",
    "outputId": "ac73d2a2-58d4-4874-a4f7-89a6d76f0021"
   },
   "outputs": [],
   "source": [
    "n_frames = 20\n",
    "num_epochs = 20\n",
    "batch_size = 64\n",
    "\n",
    "img_tensor = getImgTensor(n_frames)\n",
    "train_generator = generator(train_path, train_doc, batch_size, img_tensor)\n",
    "val_generator = generator(val_path, val_doc, batch_size, img_tensor)\n",
    "\n",
    "if (num_train_sequences%batch_size) == 0:\n",
    "    steps_per_epoch = int(num_train_sequences/batch_size)\n",
    "else:\n",
    "    steps_per_epoch = (num_train_sequences//batch_size) + 1\n",
    "\n",
    "if (num_val_sequences%batch_size) == 0:\n",
    "    validation_steps = int(num_val_sequences/batch_size)\n",
    "else:\n",
    "    validation_steps = (num_val_sequences//batch_size) + 1\n",
    "    \n",
    "inputShape = (len(img_tensor[0]), img_tensor[1], img_tensor[2], img_tensor[3])\n",
    "\n",
    "model4 = Sequential([\n",
    "    Conv3D(16, make3dFilter(3), padding='same', activation='relu', input_shape=inputShape),\n",
    "    MaxPooling3D(make3dFilter(2), padding='same'),\n",
    "    BatchNormalization(),\n",
    "\n",
    "    Conv3D(32, make3dFilter(3), padding='same', activation='relu'),\n",
    "    MaxPooling3D(pool_size=(2), padding='same'),\n",
    "    BatchNormalization(),\n",
    "\n",
    "    Conv3D(64, make3dFilter(3), padding='same', activation='relu'),\n",
    "    MaxPooling3D(pool_size=(2), padding='same'),\n",
    "    BatchNormalization(),\n",
    "\n",
    "    Conv3D(128, make3dFilter(3), padding='same', activation='relu'),\n",
    "    MaxPooling3D(pool_size=(2), padding='same'),\n",
    "    BatchNormalization(),\n",
    "\n",
    "    Flatten(),\n",
    "    Dense(128, activation='relu'),\n",
    "    BatchNormalization(),\n",
    "    Dropout(0.25),\n",
    "\n",
    "    Dense(64, activation='relu'),\n",
    "    BatchNormalization(),\n",
    "    Dropout(0.25),\n",
    "\n",
    "    Dense(5, activation='softmax')\n",
    "], name=\"conv_3d4\")\n",
    "model4.compile(optimizer=optimizers.Adam(), loss='categorical_crossentropy', metrics=['categorical_accuracy'])\n",
    "print(model4.summary())\n",
    "\n",
    "model4_history = model4.fit_generator(train_generator, steps_per_epoch=steps_per_epoch, epochs=num_epochs, verbose=1, \n",
    "            callbacks=callbacks_list, validation_data=val_generator, \n",
    "            validation_steps=validation_steps, class_weight=None, workers=1, initial_epoch=0)"
   ]
  },
  {
   "cell_type": "code",
   "execution_count": null,
   "metadata": {},
   "outputs": [],
   "source": [
    "plotModelHistory(model4_history)"
   ]
  },
  {
   "cell_type": "markdown",
   "metadata": {
    "id": "jd5Nr0nUaR8X"
   },
   "source": [
    "### Model 5: Frames:20, Epocs-20, BS-64, reduced kernel to (2,2,2), switching BatchNormalization before MaxPooling."
   ]
  },
  {
   "cell_type": "code",
   "execution_count": null,
   "metadata": {
    "id": "wuKTh7-yHs13",
    "outputId": "321c4671-f4b9-4a0a-ed65-5587ff3d92b8"
   },
   "outputs": [],
   "source": [
    "n_frames = 20\n",
    "num_epochs = 20\n",
    "batch_size = 64\n",
    "\n",
    "img_tensor = getImgTensor(n_frames)\n",
    "train_generator = generator(train_path, train_doc, batch_size, img_tensor)\n",
    "val_generator = generator(val_path, val_doc, batch_size, img_tensor)\n",
    "\n",
    "if (num_train_sequences%batch_size) == 0:\n",
    "    steps_per_epoch = int(num_train_sequences/batch_size)\n",
    "else:\n",
    "    steps_per_epoch = (num_train_sequences//batch_size) + 1\n",
    "\n",
    "if (num_val_sequences%batch_size) == 0:\n",
    "    validation_steps = int(num_val_sequences/batch_size)\n",
    "else:\n",
    "    validation_steps = (num_val_sequences//batch_size) + 1\n",
    "    \n",
    "inputShape = (len(img_tensor[0]), img_tensor[1], img_tensor[2], img_tensor[3])\n",
    "\n",
    "model5 = Sequential([\n",
    "    Conv3D(16, make3dFilter(2), padding='same', activation='relu', input_shape=inputShape),\n",
    "    BatchNormalization(),\n",
    "    MaxPooling3D(make3dFilter(2)),\n",
    "\n",
    "    Conv3D(32, make3dFilter(2), padding='same', activation='relu'),\n",
    "    BatchNormalization(),\n",
    "    MaxPooling3D(pool_size=(2)),\n",
    "\n",
    "    Conv3D(64, make3dFilter(2), padding='same', activation='relu'),\n",
    "    BatchNormalization(),\n",
    "    MaxPooling3D(pool_size=(2)),\n",
    "\n",
    "    Conv3D(128, make3dFilter(2), padding='same', activation='relu'),\n",
    "    BatchNormalization(),\n",
    "    MaxPooling3D(pool_size=(2)),\n",
    "\n",
    "    Flatten(),\n",
    "    Dense(256, activation='relu'),\n",
    "    # BatchNormalization(),\n",
    "    # Dropout(0.3),\n",
    "\n",
    "    Dense(128, activation='relu'),\n",
    "    # BatchNormalization(),\n",
    "    # Dropout(0.2),\n",
    "\n",
    "    Dense(5, activation='softmax')\n",
    "], name=\"conv_3d5\")\n",
    "model5.compile(optimizer=optimizers.Adam(), loss='categorical_crossentropy', metrics=['categorical_accuracy'])\n",
    "print(model5.summary())\n",
    "\n",
    "model5_history = model5.fit_generator(train_generator, steps_per_epoch=steps_per_epoch, epochs=num_epochs, verbose=1, \n",
    "            callbacks=callbacks_list, validation_data=val_generator, \n",
    "            validation_steps=validation_steps, class_weight=None, workers=1, initial_epoch=0)"
   ]
  },
  {
   "cell_type": "code",
   "execution_count": null,
   "metadata": {},
   "outputs": [],
   "source": [
    "plotModelHistory(model5_history)"
   ]
  },
  {
   "cell_type": "markdown",
   "metadata": {
    "id": "6OFOJQZFcjQW"
   },
   "source": [
    "### Model 6: Switching Model architecture to Conv2D+LSTM"
   ]
  },
  {
   "cell_type": "code",
   "execution_count": null,
   "metadata": {
    "id": "QDuEGEx3TTyp",
    "outputId": "f0fc2581-3a52-4f03-ac21-f3b3d583ed9e"
   },
   "outputs": [],
   "source": [
    "n_frames = 20\n",
    "num_epochs = 30\n",
    "batch_size = 32\n",
    "\n",
    "img_tensor = getImgTensor(n_frames)\n",
    "train_generator = generator(train_path, train_doc, batch_size, img_tensor)\n",
    "val_generator = generator(val_path, val_doc, batch_size, img_tensor)\n",
    "\n",
    "if (num_train_sequences%batch_size) == 0:\n",
    "    steps_per_epoch = int(num_train_sequences/batch_size)\n",
    "else:\n",
    "    steps_per_epoch = (num_train_sequences//batch_size) + 1\n",
    "\n",
    "if (num_val_sequences%batch_size) == 0:\n",
    "    validation_steps = int(num_val_sequences/batch_size)\n",
    "else:\n",
    "    validation_steps = (num_val_sequences//batch_size) + 1\n",
    "    \n",
    "inputShape = (len(img_tensor[0]), img_tensor[1], img_tensor[2], img_tensor[3])\n",
    "\n",
    "model6 = Sequential([\n",
    "    TimeDistributed(Conv2D(16, make2dFilter(3), padding='same', activation='relu'), input_shape=inputShape),\n",
    "    TimeDistributed(BatchNormalization()),\n",
    "    TimeDistributed(MaxPooling2D(make2dFilter(2))),\n",
    "\n",
    "    TimeDistributed(Conv2D(32, make2dFilter(3), padding='same', activation='relu')),\n",
    "    TimeDistributed(BatchNormalization()),\n",
    "    TimeDistributed(MaxPooling2D(make2dFilter(2))),\n",
    "\n",
    "    TimeDistributed(Conv2D(64, make2dFilter(3), padding='same', activation='relu')),\n",
    "    TimeDistributed(BatchNormalization()),\n",
    "    TimeDistributed(MaxPooling2D(make2dFilter(2))),\n",
    "\n",
    "    TimeDistributed(Conv2D(128, make2dFilter(3), padding='same', activation='relu')),\n",
    "    TimeDistributed(BatchNormalization()),\n",
    "    TimeDistributed(MaxPooling2D(make2dFilter(2))),\n",
    "\n",
    "    TimeDistributed(Conv2D(256, make2dFilter(3), padding='same', activation='relu')),\n",
    "    TimeDistributed(BatchNormalization()),\n",
    "    TimeDistributed(MaxPooling2D(make2dFilter(2))),\n",
    "\n",
    "    TimeDistributed(Flatten()),\n",
    "    LSTM(256),\n",
    "    Dropout(0.2),\n",
    "\n",
    "    Dense(256, activation='relu'),\n",
    "    Dropout(0.2),\n",
    "\n",
    "    Dense(5, activation='softmax')\n",
    "], name=\"conv_2d_lstm\")\n",
    "model6.compile(optimizer=optimizers.Adam(), loss='categorical_crossentropy', metrics=['categorical_accuracy'])\n",
    "print(model6.summary())\n",
    "\n",
    "model6_history = model6.fit_generator(train_generator, steps_per_epoch=steps_per_epoch, epochs=num_epochs, verbose=1, \n",
    "            callbacks=callbacks_list, validation_data=val_generator, \n",
    "            validation_steps=validation_steps, class_weight=None, workers=1, initial_epoch=0)"
   ]
  },
  {
   "cell_type": "code",
   "execution_count": null,
   "metadata": {},
   "outputs": [],
   "source": [
    "plotModelHistory(model6_history)"
   ]
  },
  {
   "cell_type": "markdown",
   "metadata": {
    "id": "skhLjh_vyXfR"
   },
   "source": [
    "### Model 7: Transfer Learning (MobileNet) with LSTM"
   ]
  },
  {
   "cell_type": "code",
   "execution_count": null,
   "metadata": {
    "id": "6o_v7A10vBKd"
   },
   "outputs": [],
   "source": [
    "from tensorflow.keras.applications import mobilenet"
   ]
  },
  {
   "cell_type": "code",
   "execution_count": null,
   "metadata": {
    "id": "1o8quf9byzns",
    "outputId": "b4df59a3-3fe9-4cdd-ba7d-9dc69515603d"
   },
   "outputs": [],
   "source": [
    "mobilenet = mobilenet.MobileNet(weights='imagenet', include_top=False)\n",
    "\n",
    "n_frames = 20\n",
    "num_epochs = 30\n",
    "batch_size = 64\n",
    "\n",
    "img_tensor = getImgTensor(n_frames)\n",
    "train_generator = generator(train_path, train_doc, batch_size, img_tensor)\n",
    "val_generator = generator(val_path, val_doc, batch_size, img_tensor)\n",
    "\n",
    "if (num_train_sequences%batch_size) == 0:\n",
    "    steps_per_epoch = int(num_train_sequences/batch_size)\n",
    "else:\n",
    "    steps_per_epoch = (num_train_sequences//batch_size) + 1\n",
    "\n",
    "if (num_val_sequences%batch_size) == 0:\n",
    "    validation_steps = int(num_val_sequences/batch_size)\n",
    "else:\n",
    "    validation_steps = (num_val_sequences//batch_size) + 1\n",
    "    \n",
    "inputShape = (len(img_tensor[0]), img_tensor[1], img_tensor[2], img_tensor[3])\n",
    "\n",
    "model7 = Sequential([\n",
    "    TimeDistributed(mobilenet, input_shape=inputShape)\n",
    "], name=\"mobilenet_lstm\")\n",
    "\n",
    "for layer in model7.layers:\n",
    "    layer.trainable = False\n",
    "\n",
    "model7.add(TimeDistributed(BatchNormalization()))\n",
    "model7.add(TimeDistributed(MaxPooling2D(make2dFilter(2))))\n",
    "model7.add(TimeDistributed(Flatten()))\n",
    "\n",
    "model7.add(LSTM(256))\n",
    "model7.add(Dropout(0.2))\n",
    "\n",
    "model7.add(Dense(256,activation='relu'))\n",
    "model7.add(Dropout(0.2))\n",
    "\n",
    "model7.add(Dense(5, activation='softmax'))\n",
    "\n",
    "model7.compile(optimizer=optimizers.Adam(), loss='categorical_crossentropy', metrics=['categorical_accuracy'])\n",
    "print(model7.summary())\n",
    "\n",
    "model7_history = model7.fit_generator(train_generator, steps_per_epoch=steps_per_epoch, epochs=num_epochs, verbose=1, \n",
    "            callbacks=callbacks_list, validation_data=val_generator, \n",
    "            validation_steps=validation_steps, class_weight=None, workers=1, initial_epoch=0)"
   ]
  },
  {
   "cell_type": "code",
   "execution_count": null,
   "metadata": {},
   "outputs": [],
   "source": [
    "plotModelHistory(model7_history)"
   ]
  }
 ],
 "metadata": {
  "kernelspec": {
   "display_name": "Python 3 (ipykernel)",
   "language": "python",
   "name": "python3"
  },
  "language_info": {
   "codemirror_mode": {
    "name": "ipython",
    "version": 3
   },
   "file_extension": ".py",
   "mimetype": "text/x-python",
   "name": "python",
   "nbconvert_exporter": "python",
   "pygments_lexer": "ipython3",
   "version": "3.8.10"
  }
 },
 "nbformat": 4,
 "nbformat_minor": 4
}
